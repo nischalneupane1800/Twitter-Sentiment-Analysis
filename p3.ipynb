{
 "cells": [
  {
   "cell_type": "code",
   "execution_count": 3,
   "metadata": {},
   "outputs": [],
   "source": [
    "access_token = \"3905284168-beFyAbGSJcQDI2PUqGIaZ1Drr7AdYNJNmg0UGzR\"\n",
    "access_secret = \"B7FaFaY8QQKmkhJ7myJpRKQNTNFdMJgU011IDB91ibMpS\"\n",
    "consumer_key = \"s9nXjWDHN2p7nclB9PXsJx9rh\"\n",
    "consumer_secret = \"FOD1fJaq62E0zUjq6qVJqMgIrlk5Ekz65GGh63YfnAwuhDiaoN\""
   ]
  },
  {
   "cell_type": "code",
   "execution_count": 4,
   "metadata": {},
   "outputs": [],
   "source": [
    "from tweepy.streaming import StreamListener"
   ]
  },
  {
   "cell_type": "code",
   "execution_count": 5,
   "metadata": {},
   "outputs": [],
   "source": [
    "from tweepy import Cursor"
   ]
  },
  {
   "cell_type": "code",
   "execution_count": 6,
   "metadata": {},
   "outputs": [],
   "source": [
    "from tweepy import API"
   ]
  },
  {
   "cell_type": "code",
   "execution_count": 7,
   "metadata": {},
   "outputs": [],
   "source": [
    "from tweepy import OAuthHandler"
   ]
  },
  {
   "cell_type": "code",
   "execution_count": 8,
   "metadata": {},
   "outputs": [],
   "source": [
    "from tweepy import Stream"
   ]
  },
  {
   "cell_type": "code",
   "execution_count": 9,
   "metadata": {},
   "outputs": [],
   "source": [
    "class TwitterClient():\n",
    "    def __init__(self, twitter_user = None):\n",
    "        self.auth = TwitterAuthenticator().authenticate_twitter_app()\n",
    "        self.twitter_client = API(self.auth)\n",
    "        \n",
    "        self.twitter_user = twitter_user\n",
    "        \n",
    "    def get_user_timeline_tweets(self, num_tweets):\n",
    "        tweets = []\n",
    "        for tweet in Cursor(self.twitter_client.user_timeline,id = self.twitter_user).items(num_tweets):\n",
    "            tweets.append(tweet)\n",
    "        return tweets"
   ]
  },
  {
   "cell_type": "code",
   "execution_count": 10,
   "metadata": {},
   "outputs": [],
   "source": [
    "class TwitterAuthenticator():\n",
    "    def authenticate_twitter_app(self):\n",
    "        auth = OAuthHandler(consumer_key,consumer_secret)\n",
    "        auth.set_access_token(access_token,access_secret)\n",
    "        return auth\n",
    "        "
   ]
  },
  {
   "cell_type": "code",
   "execution_count": 11,
   "metadata": {},
   "outputs": [],
   "source": [
    "class TwitterStreamer():\n",
    "    def __init__(self):\n",
    "        self.twitter_autenticator = TwitterAuthenticator()\n",
    "    def stream_tweets(self, fetched_tweets_filename, hash_tag_list):\n",
    "        listener = TwitterListener()\n",
    "        \n",
    "        stream = Stream(auth,listener)\n",
    "\n",
    "        stream.filter(track = hash_tag_list)\n",
    "\n",
    "    \n",
    "    "
   ]
  },
  {
   "cell_type": "code",
   "execution_count": 12,
   "metadata": {},
   "outputs": [],
   "source": [
    "class TwitterListener(StreamListener):\n",
    "    def __init__(self,fetched_tweets_filename):\n",
    "        self.fetched_tweets_filename = fetched_tweets_filename\n",
    "    \n",
    "    def on_data(self,data):\n",
    "        try:\n",
    "            print(data)\n",
    "            with open(self.fetched_tweets_filename,'a') as tf:\n",
    "                tf.write(data)\n",
    "            return True\n",
    "        except BaseException as e:\n",
    "            print(\"Error on the data: %s\" %str(e))\n",
    "        return True\n",
    "    \n",
    "    def on_error(self,status):\n",
    "        if status == 420:\n",
    "            return False\n",
    "        print(status)\n",
    "        \n",
    "        "
   ]
  },
  {
   "cell_type": "code",
   "execution_count": 14,
   "metadata": {},
   "outputs": [
    {
     "name": "stdout",
     "output_type": "stream",
     "text": [
      "[Status(_api=<tweepy.api.API object at 0x7f6a60180e80>, _json={'created_at': 'Fri Jun 14 10:29:59 +0000 2019', 'id': 1139480094081212416, 'id_str': '1139480094081212416', 'text': 'Participated in the proceedings of the SCO Summit in Bishkek. India has been making notable contributions in variou… https://t.co/xY7kBql1Mr', 'truncated': True, 'entities': {'hashtags': [], 'symbols': [], 'user_mentions': [], 'urls': [{'url': 'https://t.co/xY7kBql1Mr', 'expanded_url': 'https://twitter.com/i/web/status/1139480094081212416', 'display_url': 'twitter.com/i/web/status/1…', 'indices': [117, 140]}]}, 'source': '<a href=\"http://twitter.com/download/iphone\" rel=\"nofollow\">Twitter for iPhone</a>', 'in_reply_to_status_id': None, 'in_reply_to_status_id_str': None, 'in_reply_to_user_id': None, 'in_reply_to_user_id_str': None, 'in_reply_to_screen_name': None, 'user': {'id': 18839785, 'id_str': '18839785', 'name': 'Narendra Modi', 'screen_name': 'narendramodi', 'location': 'India', 'description': 'Prime Minister of India', 'url': 'https://t.co/zzYhUUfq6i', 'entities': {'url': {'urls': [{'url': 'https://t.co/zzYhUUfq6i', 'expanded_url': 'http://www.narendramodi.in', 'display_url': 'narendramodi.in', 'indices': [0, 23]}]}, 'description': {'urls': []}}, 'protected': False, 'followers_count': 48012838, 'friends_count': 2146, 'listed_count': 23814, 'created_at': 'Sat Jan 10 17:18:56 +0000 2009', 'favourites_count': 0, 'utc_offset': None, 'time_zone': None, 'geo_enabled': False, 'verified': True, 'statuses_count': 23787, 'lang': None, 'contributors_enabled': False, 'is_translator': False, 'is_translation_enabled': False, 'profile_background_color': 'F4EDD4', 'profile_background_image_url': 'http://abs.twimg.com/images/themes/theme1/bg.png', 'profile_background_image_url_https': 'https://abs.twimg.com/images/themes/theme1/bg.png', 'profile_background_tile': False, 'profile_image_url': 'http://pbs.twimg.com/profile_images/1134082549041393672/QbihPzrL_normal.png', 'profile_image_url_https': 'https://pbs.twimg.com/profile_images/1134082549041393672/QbihPzrL_normal.png', 'profile_banner_url': 'https://pbs.twimg.com/profile_banners/18839785/1559221352', 'profile_link_color': '4E7096', 'profile_sidebar_border_color': 'FFFFFF', 'profile_sidebar_fill_color': 'D5DFED', 'profile_text_color': '233863', 'profile_use_background_image': True, 'has_extended_profile': True, 'default_profile': False, 'default_profile_image': False, 'following': True, 'follow_request_sent': False, 'notifications': False, 'translator_type': 'regular'}, 'geo': None, 'coordinates': None, 'place': None, 'contributors': None, 'is_quote_status': False, 'retweet_count': 3, 'favorite_count': 1, 'favorited': False, 'retweeted': False, 'possibly_sensitive': False, 'lang': 'en'}, created_at=datetime.datetime(2019, 6, 14, 10, 29, 59), id=1139480094081212416, id_str='1139480094081212416', text='Participated in the proceedings of the SCO Summit in Bishkek. India has been making notable contributions in variou… https://t.co/xY7kBql1Mr', truncated=True, entities={'hashtags': [], 'symbols': [], 'user_mentions': [], 'urls': [{'url': 'https://t.co/xY7kBql1Mr', 'expanded_url': 'https://twitter.com/i/web/status/1139480094081212416', 'display_url': 'twitter.com/i/web/status/1…', 'indices': [117, 140]}]}, source='Twitter for iPhone', source_url='http://twitter.com/download/iphone', in_reply_to_status_id=None, in_reply_to_status_id_str=None, in_reply_to_user_id=None, in_reply_to_user_id_str=None, in_reply_to_screen_name=None, author=User(_api=<tweepy.api.API object at 0x7f6a60180e80>, _json={'id': 18839785, 'id_str': '18839785', 'name': 'Narendra Modi', 'screen_name': 'narendramodi', 'location': 'India', 'description': 'Prime Minister of India', 'url': 'https://t.co/zzYhUUfq6i', 'entities': {'url': {'urls': [{'url': 'https://t.co/zzYhUUfq6i', 'expanded_url': 'http://www.narendramodi.in', 'display_url': 'narendramodi.in', 'indices': [0, 23]}]}, 'description': {'urls': []}}, 'protected': False, 'followers_count': 48012838, 'friends_count': 2146, 'listed_count': 23814, 'created_at': 'Sat Jan 10 17:18:56 +0000 2009', 'favourites_count': 0, 'utc_offset': None, 'time_zone': None, 'geo_enabled': False, 'verified': True, 'statuses_count': 23787, 'lang': None, 'contributors_enabled': False, 'is_translator': False, 'is_translation_enabled': False, 'profile_background_color': 'F4EDD4', 'profile_background_image_url': 'http://abs.twimg.com/images/themes/theme1/bg.png', 'profile_background_image_url_https': 'https://abs.twimg.com/images/themes/theme1/bg.png', 'profile_background_tile': False, 'profile_image_url': 'http://pbs.twimg.com/profile_images/1134082549041393672/QbihPzrL_normal.png', 'profile_image_url_https': 'https://pbs.twimg.com/profile_images/1134082549041393672/QbihPzrL_normal.png', 'profile_banner_url': 'https://pbs.twimg.com/profile_banners/18839785/1559221352', 'profile_link_color': '4E7096', 'profile_sidebar_border_color': 'FFFFFF', 'profile_sidebar_fill_color': 'D5DFED', 'profile_text_color': '233863', 'profile_use_background_image': True, 'has_extended_profile': True, 'default_profile': False, 'default_profile_image': False, 'following': True, 'follow_request_sent': False, 'notifications': False, 'translator_type': 'regular'}, id=18839785, id_str='18839785', name='Narendra Modi', screen_name='narendramodi', location='India', description='Prime Minister of India', url='https://t.co/zzYhUUfq6i', entities={'url': {'urls': [{'url': 'https://t.co/zzYhUUfq6i', 'expanded_url': 'http://www.narendramodi.in', 'display_url': 'narendramodi.in', 'indices': [0, 23]}]}, 'description': {'urls': []}}, protected=False, followers_count=48012838, friends_count=2146, listed_count=23814, created_at=datetime.datetime(2009, 1, 10, 17, 18, 56), favourites_count=0, utc_offset=None, time_zone=None, geo_enabled=False, verified=True, statuses_count=23787, lang=None, contributors_enabled=False, is_translator=False, is_translation_enabled=False, profile_background_color='F4EDD4', profile_background_image_url='http://abs.twimg.com/images/themes/theme1/bg.png', profile_background_image_url_https='https://abs.twimg.com/images/themes/theme1/bg.png', profile_background_tile=False, profile_image_url='http://pbs.twimg.com/profile_images/1134082549041393672/QbihPzrL_normal.png', profile_image_url_https='https://pbs.twimg.com/profile_images/1134082549041393672/QbihPzrL_normal.png', profile_banner_url='https://pbs.twimg.com/profile_banners/18839785/1559221352', profile_link_color='4E7096', profile_sidebar_border_color='FFFFFF', profile_sidebar_fill_color='D5DFED', profile_text_color='233863', profile_use_background_image=True, has_extended_profile=True, default_profile=False, default_profile_image=False, following=True, follow_request_sent=False, notifications=False, translator_type='regular'), user=User(_api=<tweepy.api.API object at 0x7f6a60180e80>, _json={'id': 18839785, 'id_str': '18839785', 'name': 'Narendra Modi', 'screen_name': 'narendramodi', 'location': 'India', 'description': 'Prime Minister of India', 'url': 'https://t.co/zzYhUUfq6i', 'entities': {'url': {'urls': [{'url': 'https://t.co/zzYhUUfq6i', 'expanded_url': 'http://www.narendramodi.in', 'display_url': 'narendramodi.in', 'indices': [0, 23]}]}, 'description': {'urls': []}}, 'protected': False, 'followers_count': 48012838, 'friends_count': 2146, 'listed_count': 23814, 'created_at': 'Sat Jan 10 17:18:56 +0000 2009', 'favourites_count': 0, 'utc_offset': None, 'time_zone': None, 'geo_enabled': False, 'verified': True, 'statuses_count': 23787, 'lang': None, 'contributors_enabled': False, 'is_translator': False, 'is_translation_enabled': False, 'profile_background_color': 'F4EDD4', 'profile_background_image_url': 'http://abs.twimg.com/images/themes/theme1/bg.png', 'profile_background_image_url_https': 'https://abs.twimg.com/images/themes/theme1/bg.png', 'profile_background_tile': False, 'profile_image_url': 'http://pbs.twimg.com/profile_images/1134082549041393672/QbihPzrL_normal.png', 'profile_image_url_https': 'https://pbs.twimg.com/profile_images/1134082549041393672/QbihPzrL_normal.png', 'profile_banner_url': 'https://pbs.twimg.com/profile_banners/18839785/1559221352', 'profile_link_color': '4E7096', 'profile_sidebar_border_color': 'FFFFFF', 'profile_sidebar_fill_color': 'D5DFED', 'profile_text_color': '233863', 'profile_use_background_image': True, 'has_extended_profile': True, 'default_profile': False, 'default_profile_image': False, 'following': True, 'follow_request_sent': False, 'notifications': False, 'translator_type': 'regular'}, id=18839785, id_str='18839785', name='Narendra Modi', screen_name='narendramodi', location='India', description='Prime Minister of India', url='https://t.co/zzYhUUfq6i', entities={'url': {'urls': [{'url': 'https://t.co/zzYhUUfq6i', 'expanded_url': 'http://www.narendramodi.in', 'display_url': 'narendramodi.in', 'indices': [0, 23]}]}, 'description': {'urls': []}}, protected=False, followers_count=48012838, friends_count=2146, listed_count=23814, created_at=datetime.datetime(2009, 1, 10, 17, 18, 56), favourites_count=0, utc_offset=None, time_zone=None, geo_enabled=False, verified=True, statuses_count=23787, lang=None, contributors_enabled=False, is_translator=False, is_translation_enabled=False, profile_background_color='F4EDD4', profile_background_image_url='http://abs.twimg.com/images/themes/theme1/bg.png', profile_background_image_url_https='https://abs.twimg.com/images/themes/theme1/bg.png', profile_background_tile=False, profile_image_url='http://pbs.twimg.com/profile_images/1134082549041393672/QbihPzrL_normal.png', profile_image_url_https='https://pbs.twimg.com/profile_images/1134082549041393672/QbihPzrL_normal.png', profile_banner_url='https://pbs.twimg.com/profile_banners/18839785/1559221352', profile_link_color='4E7096', profile_sidebar_border_color='FFFFFF', profile_sidebar_fill_color='D5DFED', profile_text_color='233863', profile_use_background_image=True, has_extended_profile=True, default_profile=False, default_profile_image=False, following=True, follow_request_sent=False, notifications=False, translator_type='regular'), geo=None, coordinates=None, place=None, contributors=None, is_quote_status=False, retweet_count=3, favorite_count=1, favorited=False, retweeted=False, possibly_sensitive=False, lang='en')]\n"
     ]
    }
   ],
   "source": [
    "if __name__ == \"__main__\":\n",
    "    hash_tag_list = [\"donald trump\",\"hillary clinton\"]\n",
    "    fetched_tweets_filename = \"tweets.json\"\n",
    "    \n",
    "    twitter_client = TwitterClient('narendramodi')\n",
    "    print(twitter_client.get_user_timeline_tweets(1))\n",
    "    \n",
    "   # twitter_streamer = TwitterStreamer()\n",
    "   # twitter_streamer.stream_tweets(fetched_tweets_filename, hash_tag_list)"
   ]
  },
  {
   "cell_type": "code",
   "execution_count": null,
   "metadata": {},
   "outputs": [],
   "source": []
  },
  {
   "cell_type": "code",
   "execution_count": null,
   "metadata": {},
   "outputs": [],
   "source": []
  },
  {
   "cell_type": "code",
   "execution_count": null,
   "metadata": {},
   "outputs": [],
   "source": []
  },
  {
   "cell_type": "code",
   "execution_count": null,
   "metadata": {},
   "outputs": [],
   "source": []
  }
 ],
 "metadata": {
  "kernelspec": {
   "display_name": "Python 3",
   "language": "python",
   "name": "python3"
  },
  "language_info": {
   "codemirror_mode": {
    "name": "ipython",
    "version": 3
   },
   "file_extension": ".py",
   "mimetype": "text/x-python",
   "name": "python",
   "nbconvert_exporter": "python",
   "pygments_lexer": "ipython3",
   "version": "3.6.7"
  }
 },
 "nbformat": 4,
 "nbformat_minor": 2
}
