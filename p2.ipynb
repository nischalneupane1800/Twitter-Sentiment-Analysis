{
 "cells": [
  {
   "cell_type": "code",
   "execution_count": 17,
   "metadata": {},
   "outputs": [],
   "source": [
    "access_token = \"3905284168-beFyAbGSJcQDI2PUqGIaZ1Drr7AdYNJNmg0UGzR\"\n",
    "access_secret = \"B7FaFaY8QQKmkhJ7myJpRKQNTNFdMJgU011IDB91ibMpS\"\n",
    "consumer_key = \"s9nXjWDHN2p7nclB9PXsJx9rh\"\n",
    "consumer_secret = \"FOD1fJaq62E0zUjq6qVJqMgIrlk5Ekz65GGh63YfnAwuhDiaoN\""
   ]
  },
  {
   "cell_type": "code",
   "execution_count": 18,
   "metadata": {},
   "outputs": [],
   "source": [
    "from tweepy.streaming import StreamListener"
   ]
  },
  {
   "cell_type": "code",
   "execution_count": 19,
   "metadata": {},
   "outputs": [],
   "source": [
    "from tweepy import Cursor"
   ]
  },
  {
   "cell_type": "code",
   "execution_count": 20,
   "metadata": {},
   "outputs": [],
   "source": [
    "from tweepy import API"
   ]
  },
  {
   "cell_type": "code",
   "execution_count": 21,
   "metadata": {},
   "outputs": [],
   "source": [
    "from tweepy import OAuthHandler"
   ]
  },
  {
   "cell_type": "code",
   "execution_count": 22,
   "metadata": {},
   "outputs": [],
   "source": [
    "from tweepy import Stream"
   ]
  },
  {
   "cell_type": "code",
   "execution_count": 23,
   "metadata": {},
   "outputs": [],
   "source": [
    "class TwitterClient():\n",
    "    def __init__(self):\n",
    "        self.auth = TwitterAuthenticator().authenticate_twitter_app()\n",
    "        self.twitter_client = API(self.auth)\n",
    "    def get_user_timeline_tweets(self, num_tweets):\n",
    "        tweets = []\n",
    "        for tweet in Cursor(self.twitter_client.user_timeline).items(num_tweets):\n",
    "            tweets.append(tweet)\n",
    "        return tweets"
   ]
  },
  {
   "cell_type": "code",
   "execution_count": 24,
   "metadata": {},
   "outputs": [],
   "source": [
    "class TwitterAuthenticator():\n",
    "    def authenticate_twitter_app(self):\n",
    "        auth = OAuthHandler(consumer_key,consumer_secret)\n",
    "        auth.set_access_token(access_token,access_secret)\n",
    "        return auth\n",
    "        "
   ]
  },
  {
   "cell_type": "code",
   "execution_count": 25,
   "metadata": {},
   "outputs": [],
   "source": [
    "class TwitterStreamer():\n",
    "    def __init__(self):\n",
    "        self.twitter_autenticator = TwitterAuthenticator()\n",
    "    def stream_tweets(self, fetched_tweets_filename, hash_tag_list):\n",
    "        listener = TwitterListener()\n",
    "        \n",
    "        stream = Stream(auth,listener)\n",
    "\n",
    "        stream.filter(track = hash_tag_list)\n",
    "\n",
    "    \n",
    "    "
   ]
  },
  {
   "cell_type": "code",
   "execution_count": 26,
   "metadata": {},
   "outputs": [],
   "source": [
    "class TwitterListener(StreamListener):\n",
    "    def __init__(self,fetched_tweets_filename):\n",
    "        self.fetched_tweets_filename = fetched_tweets_filename\n",
    "    \n",
    "    def on_data(self,data):\n",
    "        try:\n",
    "            print(data)\n",
    "            with open(self.fetched_tweets_filename,'a') as tf:\n",
    "                tf.write(data)\n",
    "            return True\n",
    "        except BaseException as e:\n",
    "            print(\"Error on the data: %s\" %str(e))\n",
    "        return True\n",
    "    \n",
    "    def on_error(self,status):\n",
    "        if status == 420:\n",
    "            return False\n",
    "        print(status)\n",
    "        \n",
    "        "
   ]
  },
  {
   "cell_type": "code",
   "execution_count": 28,
   "metadata": {},
   "outputs": [
    {
     "name": "stdout",
     "output_type": "stream",
     "text": [
      "[Status(_api=<tweepy.api.API object at 0x7f478a3e6b38>, _json={'created_at': 'Sat Jun 08 11:58:33 +0000 2019', 'id': 1137328054764593153, 'id_str': '1137328054764593153', 'text': '९२,००० नेपाली कोरियाको परिक्षया दिन तयार| देशमा कति बेरोजगारी छ| देशका नेताले यसको बारेमा सोच्नु पर्छ है| खर्बौको स… https://t.co/kKcZdLkITl', 'truncated': True, 'entities': {'hashtags': [], 'symbols': [], 'user_mentions': [], 'urls': [{'url': 'https://t.co/kKcZdLkITl', 'expanded_url': 'https://twitter.com/i/web/status/1137328054764593153', 'display_url': 'twitter.com/i/web/status/1…', 'indices': [117, 140]}]}, 'source': '<a href=\"http://twitter.com\" rel=\"nofollow\">Twitter Web Client</a>', 'in_reply_to_status_id': None, 'in_reply_to_status_id_str': None, 'in_reply_to_user_id': None, 'in_reply_to_user_id_str': None, 'in_reply_to_screen_name': None, 'user': {'id': 3905284168, 'id_str': '3905284168', 'name': 'Nischal Neupane', 'screen_name': 'Diccewt', 'location': '', 'description': '#bachelorOfScienceInComputerScienceAndInformationTechnology', 'url': 'https://t.co/VFRtDyk1nK', 'entities': {'url': {'urls': [{'url': 'https://t.co/VFRtDyk1nK', 'expanded_url': 'http://nischalneupane.com.np', 'display_url': 'nischalneupane.com.np', 'indices': [0, 23]}]}, 'description': {'urls': []}}, 'protected': False, 'followers_count': 43, 'friends_count': 106, 'listed_count': 0, 'created_at': 'Fri Oct 09 03:10:13 +0000 2015', 'favourites_count': 377, 'utc_offset': None, 'time_zone': None, 'geo_enabled': True, 'verified': False, 'statuses_count': 146, 'lang': None, 'contributors_enabled': False, 'is_translator': False, 'is_translation_enabled': False, 'profile_background_color': 'C0DEED', 'profile_background_image_url': 'http://abs.twimg.com/images/themes/theme1/bg.png', 'profile_background_image_url_https': 'https://abs.twimg.com/images/themes/theme1/bg.png', 'profile_background_tile': False, 'profile_image_url': 'http://pbs.twimg.com/profile_images/802319838823600128/FP2qyla5_normal.jpg', 'profile_image_url_https': 'https://pbs.twimg.com/profile_images/802319838823600128/FP2qyla5_normal.jpg', 'profile_banner_url': 'https://pbs.twimg.com/profile_banners/3905284168/1536426988', 'profile_link_color': '1DA1F2', 'profile_sidebar_border_color': 'C0DEED', 'profile_sidebar_fill_color': 'DDEEF6', 'profile_text_color': '333333', 'profile_use_background_image': True, 'has_extended_profile': False, 'default_profile': True, 'default_profile_image': False, 'following': False, 'follow_request_sent': False, 'notifications': False, 'translator_type': 'none'}, 'geo': None, 'coordinates': None, 'place': None, 'contributors': None, 'is_quote_status': False, 'retweet_count': 0, 'favorite_count': 0, 'favorited': False, 'retweeted': False, 'lang': 'ne'}, created_at=datetime.datetime(2019, 6, 8, 11, 58, 33), id=1137328054764593153, id_str='1137328054764593153', text='९२,००० नेपाली कोरियाको परिक्षया दिन तयार| देशमा कति बेरोजगारी छ| देशका नेताले यसको बारेमा सोच्नु पर्छ है| खर्बौको स… https://t.co/kKcZdLkITl', truncated=True, entities={'hashtags': [], 'symbols': [], 'user_mentions': [], 'urls': [{'url': 'https://t.co/kKcZdLkITl', 'expanded_url': 'https://twitter.com/i/web/status/1137328054764593153', 'display_url': 'twitter.com/i/web/status/1…', 'indices': [117, 140]}]}, source='Twitter Web Client', source_url='http://twitter.com', in_reply_to_status_id=None, in_reply_to_status_id_str=None, in_reply_to_user_id=None, in_reply_to_user_id_str=None, in_reply_to_screen_name=None, author=User(_api=<tweepy.api.API object at 0x7f478a3e6b38>, _json={'id': 3905284168, 'id_str': '3905284168', 'name': 'Nischal Neupane', 'screen_name': 'Diccewt', 'location': '', 'description': '#bachelorOfScienceInComputerScienceAndInformationTechnology', 'url': 'https://t.co/VFRtDyk1nK', 'entities': {'url': {'urls': [{'url': 'https://t.co/VFRtDyk1nK', 'expanded_url': 'http://nischalneupane.com.np', 'display_url': 'nischalneupane.com.np', 'indices': [0, 23]}]}, 'description': {'urls': []}}, 'protected': False, 'followers_count': 43, 'friends_count': 106, 'listed_count': 0, 'created_at': 'Fri Oct 09 03:10:13 +0000 2015', 'favourites_count': 377, 'utc_offset': None, 'time_zone': None, 'geo_enabled': True, 'verified': False, 'statuses_count': 146, 'lang': None, 'contributors_enabled': False, 'is_translator': False, 'is_translation_enabled': False, 'profile_background_color': 'C0DEED', 'profile_background_image_url': 'http://abs.twimg.com/images/themes/theme1/bg.png', 'profile_background_image_url_https': 'https://abs.twimg.com/images/themes/theme1/bg.png', 'profile_background_tile': False, 'profile_image_url': 'http://pbs.twimg.com/profile_images/802319838823600128/FP2qyla5_normal.jpg', 'profile_image_url_https': 'https://pbs.twimg.com/profile_images/802319838823600128/FP2qyla5_normal.jpg', 'profile_banner_url': 'https://pbs.twimg.com/profile_banners/3905284168/1536426988', 'profile_link_color': '1DA1F2', 'profile_sidebar_border_color': 'C0DEED', 'profile_sidebar_fill_color': 'DDEEF6', 'profile_text_color': '333333', 'profile_use_background_image': True, 'has_extended_profile': False, 'default_profile': True, 'default_profile_image': False, 'following': False, 'follow_request_sent': False, 'notifications': False, 'translator_type': 'none'}, id=3905284168, id_str='3905284168', name='Nischal Neupane', screen_name='Diccewt', location='', description='#bachelorOfScienceInComputerScienceAndInformationTechnology', url='https://t.co/VFRtDyk1nK', entities={'url': {'urls': [{'url': 'https://t.co/VFRtDyk1nK', 'expanded_url': 'http://nischalneupane.com.np', 'display_url': 'nischalneupane.com.np', 'indices': [0, 23]}]}, 'description': {'urls': []}}, protected=False, followers_count=43, friends_count=106, listed_count=0, created_at=datetime.datetime(2015, 10, 9, 3, 10, 13), favourites_count=377, utc_offset=None, time_zone=None, geo_enabled=True, verified=False, statuses_count=146, lang=None, contributors_enabled=False, is_translator=False, is_translation_enabled=False, profile_background_color='C0DEED', profile_background_image_url='http://abs.twimg.com/images/themes/theme1/bg.png', profile_background_image_url_https='https://abs.twimg.com/images/themes/theme1/bg.png', profile_background_tile=False, profile_image_url='http://pbs.twimg.com/profile_images/802319838823600128/FP2qyla5_normal.jpg', profile_image_url_https='https://pbs.twimg.com/profile_images/802319838823600128/FP2qyla5_normal.jpg', profile_banner_url='https://pbs.twimg.com/profile_banners/3905284168/1536426988', profile_link_color='1DA1F2', profile_sidebar_border_color='C0DEED', profile_sidebar_fill_color='DDEEF6', profile_text_color='333333', profile_use_background_image=True, has_extended_profile=False, default_profile=True, default_profile_image=False, following=False, follow_request_sent=False, notifications=False, translator_type='none'), user=User(_api=<tweepy.api.API object at 0x7f478a3e6b38>, _json={'id': 3905284168, 'id_str': '3905284168', 'name': 'Nischal Neupane', 'screen_name': 'Diccewt', 'location': '', 'description': '#bachelorOfScienceInComputerScienceAndInformationTechnology', 'url': 'https://t.co/VFRtDyk1nK', 'entities': {'url': {'urls': [{'url': 'https://t.co/VFRtDyk1nK', 'expanded_url': 'http://nischalneupane.com.np', 'display_url': 'nischalneupane.com.np', 'indices': [0, 23]}]}, 'description': {'urls': []}}, 'protected': False, 'followers_count': 43, 'friends_count': 106, 'listed_count': 0, 'created_at': 'Fri Oct 09 03:10:13 +0000 2015', 'favourites_count': 377, 'utc_offset': None, 'time_zone': None, 'geo_enabled': True, 'verified': False, 'statuses_count': 146, 'lang': None, 'contributors_enabled': False, 'is_translator': False, 'is_translation_enabled': False, 'profile_background_color': 'C0DEED', 'profile_background_image_url': 'http://abs.twimg.com/images/themes/theme1/bg.png', 'profile_background_image_url_https': 'https://abs.twimg.com/images/themes/theme1/bg.png', 'profile_background_tile': False, 'profile_image_url': 'http://pbs.twimg.com/profile_images/802319838823600128/FP2qyla5_normal.jpg', 'profile_image_url_https': 'https://pbs.twimg.com/profile_images/802319838823600128/FP2qyla5_normal.jpg', 'profile_banner_url': 'https://pbs.twimg.com/profile_banners/3905284168/1536426988', 'profile_link_color': '1DA1F2', 'profile_sidebar_border_color': 'C0DEED', 'profile_sidebar_fill_color': 'DDEEF6', 'profile_text_color': '333333', 'profile_use_background_image': True, 'has_extended_profile': False, 'default_profile': True, 'default_profile_image': False, 'following': False, 'follow_request_sent': False, 'notifications': False, 'translator_type': 'none'}, id=3905284168, id_str='3905284168', name='Nischal Neupane', screen_name='Diccewt', location='', description='#bachelorOfScienceInComputerScienceAndInformationTechnology', url='https://t.co/VFRtDyk1nK', entities={'url': {'urls': [{'url': 'https://t.co/VFRtDyk1nK', 'expanded_url': 'http://nischalneupane.com.np', 'display_url': 'nischalneupane.com.np', 'indices': [0, 23]}]}, 'description': {'urls': []}}, protected=False, followers_count=43, friends_count=106, listed_count=0, created_at=datetime.datetime(2015, 10, 9, 3, 10, 13), favourites_count=377, utc_offset=None, time_zone=None, geo_enabled=True, verified=False, statuses_count=146, lang=None, contributors_enabled=False, is_translator=False, is_translation_enabled=False, profile_background_color='C0DEED', profile_background_image_url='http://abs.twimg.com/images/themes/theme1/bg.png', profile_background_image_url_https='https://abs.twimg.com/images/themes/theme1/bg.png', profile_background_tile=False, profile_image_url='http://pbs.twimg.com/profile_images/802319838823600128/FP2qyla5_normal.jpg', profile_image_url_https='https://pbs.twimg.com/profile_images/802319838823600128/FP2qyla5_normal.jpg', profile_banner_url='https://pbs.twimg.com/profile_banners/3905284168/1536426988', profile_link_color='1DA1F2', profile_sidebar_border_color='C0DEED', profile_sidebar_fill_color='DDEEF6', profile_text_color='333333', profile_use_background_image=True, has_extended_profile=False, default_profile=True, default_profile_image=False, following=False, follow_request_sent=False, notifications=False, translator_type='none'), geo=None, coordinates=None, place=None, contributors=None, is_quote_status=False, retweet_count=0, favorite_count=0, favorited=False, retweeted=False, lang='ne')]\n"
     ]
    }
   ],
   "source": [
    "if __name__ == \"__main__\":\n",
    "    #hash_tag_list = [\"donald trump\",\"hillary clinton\"]\n",
    "   # fetched_tweets_filename = \"tweets.json\"\n",
    "    \n",
    "    twitter_client = TwitterClient()\n",
    "    print(twitter_client.get_user_timeline_tweets(1))\n",
    "    \n",
    "   # twitter_streamer = TwitterStreamer()\n",
    "   # twitter_streamer.stream_tweets(fetched_tweets_filename, hash_tag_list)"
   ]
  },
  {
   "cell_type": "code",
   "execution_count": null,
   "metadata": {},
   "outputs": [],
   "source": []
  },
  {
   "cell_type": "code",
   "execution_count": null,
   "metadata": {},
   "outputs": [],
   "source": []
  },
  {
   "cell_type": "code",
   "execution_count": null,
   "metadata": {},
   "outputs": [],
   "source": []
  },
  {
   "cell_type": "code",
   "execution_count": null,
   "metadata": {},
   "outputs": [],
   "source": []
  },
  {
   "cell_type": "code",
   "execution_count": null,
   "metadata": {},
   "outputs": [],
   "source": []
  },
  {
   "cell_type": "code",
   "execution_count": null,
   "metadata": {},
   "outputs": [],
   "source": []
  },
  {
   "cell_type": "code",
   "execution_count": null,
   "metadata": {},
   "outputs": [],
   "source": []
  },
  {
   "cell_type": "code",
   "execution_count": null,
   "metadata": {},
   "outputs": [],
   "source": []
  },
  {
   "cell_type": "code",
   "execution_count": null,
   "metadata": {},
   "outputs": [],
   "source": []
  },
  {
   "cell_type": "code",
   "execution_count": null,
   "metadata": {},
   "outputs": [],
   "source": []
  },
  {
   "cell_type": "code",
   "execution_count": null,
   "metadata": {},
   "outputs": [],
   "source": []
  },
  {
   "cell_type": "code",
   "execution_count": null,
   "metadata": {},
   "outputs": [],
   "source": []
  },
  {
   "cell_type": "code",
   "execution_count": null,
   "metadata": {},
   "outputs": [],
   "source": []
  },
  {
   "cell_type": "code",
   "execution_count": null,
   "metadata": {},
   "outputs": [],
   "source": []
  }
 ],
 "metadata": {
  "kernelspec": {
   "display_name": "Python 3",
   "language": "python",
   "name": "python3"
  },
  "language_info": {
   "codemirror_mode": {
    "name": "ipython",
    "version": 3
   },
   "file_extension": ".py",
   "mimetype": "text/x-python",
   "name": "python",
   "nbconvert_exporter": "python",
   "pygments_lexer": "ipython3",
   "version": "3.6.7"
  }
 },
 "nbformat": 4,
 "nbformat_minor": 2
}
