{
 "cells": [
  {
   "cell_type": "code",
   "execution_count": 1,
   "metadata": {},
   "outputs": [],
   "source": [
    "access_token = \"3905284168-beFyAbGSJcQDI2PUqGIaZ1Drr7AdYNJNmg0UGzR\"\n",
    "access_secret = \"B7FaFaY8QQKmkhJ7myJpRKQNTNFdMJgU011IDB91ibMpS\"\n",
    "consumer_key = \"s9nXjWDHN2p7nclB9PXsJx9rh\"\n",
    "consumer_secret = \"FOD1fJaq62E0zUjq6qVJqMgIrlk5Ekz65GGh63YfnAwuhDiaoN\""
   ]
  },
  {
   "cell_type": "code",
   "execution_count": 2,
   "metadata": {},
   "outputs": [],
   "source": [
    "from tweepy.streaming import StreamListener"
   ]
  },
  {
   "cell_type": "code",
   "execution_count": 3,
   "metadata": {},
   "outputs": [],
   "source": [
    "from tweepy import API"
   ]
  },
  {
   "cell_type": "code",
   "execution_count": 4,
   "metadata": {},
   "outputs": [],
   "source": [
    "from tweepy import Cursor"
   ]
  },
  {
   "cell_type": "code",
   "execution_count": 5,
   "metadata": {},
   "outputs": [],
   "source": [
    "from tweepy import OAuthHandler"
   ]
  },
  {
   "cell_type": "code",
   "execution_count": 6,
   "metadata": {},
   "outputs": [],
   "source": [
    "from tweepy import Stream"
   ]
  },
  {
   "cell_type": "code",
   "execution_count": 7,
   "metadata": {},
   "outputs": [],
   "source": [
    "import numpy as np"
   ]
  },
  {
   "cell_type": "code",
   "execution_count": 8,
   "metadata": {},
   "outputs": [],
   "source": [
    "import pandas as pd"
   ]
  },
  {
   "cell_type": "code",
   "execution_count": 9,
   "metadata": {},
   "outputs": [
    {
     "name": "stdout",
     "output_type": "stream",
     "text": [
      "Using matplotlib backend: Qt5Agg\n",
      "Populating the interactive namespace from numpy and matplotlib\n"
     ]
    }
   ],
   "source": [
    "%pylab\n",
    "import matplotlib.pyplot as plt"
   ]
  },
  {
   "cell_type": "code",
   "execution_count": 10,
   "metadata": {},
   "outputs": [],
   "source": [
    "from textblob import TextBlob"
   ]
  },
  {
   "cell_type": "code",
   "execution_count": 11,
   "metadata": {},
   "outputs": [],
   "source": [
    "import re"
   ]
  },
  {
   "cell_type": "code",
   "execution_count": 12,
   "metadata": {},
   "outputs": [],
   "source": [
    "class TwitterClient():\n",
    "    def __init__(self, twitter_user = None):\n",
    "        self.auth = TwitterAuthenticator().authenticate_twitter_app()\n",
    "        self.twitter_client = API(self.auth)\n",
    "        \n",
    "        self.twitter_user = twitter_user\n",
    "        \n",
    "    def get_twitter_client_api(self):\n",
    "        return self.twitter_client\n",
    "        \n",
    "        \n",
    "    def get_user_timeline_tweets(self, num_tweets):\n",
    "        tweets = []\n",
    "        for tweet in Cursor(self.twitter_client.user_timeline,id = self.twitter_user).items(num_tweets):\n",
    "            tweets.append(tweet)\n",
    "        return tweets\n",
    "    \n",
    "    def get_friend_list(self, num_friends):\n",
    "        friend_list = []\n",
    "        for friend in Cursor(self.twitter_client.friends, id = self.twitter_user).items(num_friends):\n",
    "            friend_list.append(friend)\n",
    "        return friend_list\n",
    "        print()\n",
    "    \n",
    "    def get_home_timeline_tweets(self, num_tweets):\n",
    "        home_timeline_tweets = []\n",
    "        for tweet in Cursor(self.twitter_client.home_timeline, id = self.twitter_user).items(num_tweets):\n",
    "            home_timeline_tweets.append(tweet)\n",
    "        return home_timeline_tweets\n",
    "        "
   ]
  },
  {
   "cell_type": "code",
   "execution_count": 13,
   "metadata": {},
   "outputs": [],
   "source": [
    "class TwitterAuthenticator():\n",
    "    def authenticate_twitter_app(self):\n",
    "        auth = OAuthHandler(consumer_key,consumer_secret)\n",
    "        auth.set_access_token(access_token,access_secret)\n",
    "        return auth\n",
    "        "
   ]
  },
  {
   "cell_type": "code",
   "execution_count": 14,
   "metadata": {},
   "outputs": [],
   "source": [
    "class TwitterStreamer():\n",
    "    def __init__(self):\n",
    "        self.twitter_autenticator = TwitterAuthenticator()\n",
    "    def stream_tweets(self, fetched_tweets_filename, hash_tag_list):\n",
    "        listener = TwitterListener()\n",
    "        \n",
    "        stream = Stream(auth,listener)\n",
    "\n",
    "        stream.filter(track = hash_tag_list)\n",
    "\n",
    "    \n",
    "    "
   ]
  },
  {
   "cell_type": "code",
   "execution_count": 15,
   "metadata": {},
   "outputs": [],
   "source": [
    "class TwitterListener(StreamListener):\n",
    "    def __init__(self,fetched_tweets_filename):\n",
    "        self.fetched_tweets_filename = fetched_tweets_filename\n",
    "    \n",
    "    def on_data(self,data):\n",
    "        try:\n",
    "            print(data)\n",
    "            with open(self.fetched_tweets_filename,'a') as tf:\n",
    "                tf.write(data)\n",
    "            return True\n",
    "        except BaseException as e:\n",
    "            print(\"Error on the data: %s\" %str(e))\n",
    "        return True\n",
    "    \n",
    "    def on_error(self,status):\n",
    "        if status == 420:\n",
    "            return False\n",
    "        print(status)\n",
    "        \n",
    "        "
   ]
  },
  {
   "cell_type": "code",
   "execution_count": 16,
   "metadata": {},
   "outputs": [],
   "source": [
    "class TweetAnalyzer():\n",
    "    def clean_tweet(self, tweet):\n",
    "         return ' '.join(re.sub(\"(@[A-Za-z0-9]+)|([^0-9A-Za-z \\t]) |(\\w+:\\/\\/\\S+)\", \" \", tweet).split())\n",
    "    \n",
    "    def analyze_sentiment(self, tweet):\n",
    "        analysis = TextBlob(self.clean_tweet(tweet))\n",
    "        \n",
    "        if analysis.sentiment.polarity > 0:\n",
    "            return 1\n",
    "        elif analysis.sentiment.polarity == 0:\n",
    "            return 0\n",
    "        else:\n",
    "            return -1\n",
    "    \n",
    "    def tweets_to_dataframe(self,tweets):\n",
    "        df = pd.DataFrame(data = [tweet.text for tweet in tweets], columns = ['tweets'])\n",
    "        df['id'] = np.array([tweet.id for tweet in tweets])\n",
    "        df['date'] = np.array([tweet.created_at for tweet in tweets])\n",
    "        df['source'] = np.array([tweet.source for tweet in tweets])\n",
    "        df['likes'] = np.array([tweet.favorite_count for tweet in tweets])\n",
    "        df['retweet'] = np.array([tweet.retweet_count for tweet in tweets])\n",
    "        return df"
   ]
  },
  {
   "cell_type": "code",
   "execution_count": 17,
   "metadata": {},
   "outputs": [
    {
     "name": "stdout",
     "output_type": "stream",
     "text": [
      "                                              tweets                   id  \\\n",
      "0  गर्मि भयोभने त स्कूलहरु बन्द गर्ने होइन| वरिपर...  1140471071453278209   \n",
      "1  ९२,००० नेपाली कोरियाको परिक्षया दिन तयार| देशम...  1137328054764593153   \n",
      "2  सामन्ती वर्गको मात्र प्रवेश सरकारी निकायमा भन्...  1137284070847598592   \n",
      "3  लिम्बु, राई, मगर दौडे ब्रिटिश लाहुरे भए, मारवा...  1137284068414959616   \n",
      "4  ए किसान, तिमीले मौसमै पिच्छे रोप्ने बोटबिरुवाक...  1136180609431220225   \n",
      "5  May the auspicious occasion of Eid bless you w...  1136109297090215937   \n",
      "6  पढ केटा हो पढ, केटिले नम्बर देलान, मास्टरले दि...  1135868003566776320   \n",
      "7  RT @sabeenakarki: “छोरीमान्छेहरु सानो-सानो\\nकु...  1135434408675033088   \n",
      "8  बृद्दभत्ता बाडदा सयम अपनाउनु पर्छ| कतै गरिब जन...  1135431229765967874   \n",
      "9  कडा| अब यसै गरौ| राम्रो आयो भने नेपालीले सुनको...  1135002698422468614   \n",
      "\n",
      "                 date              source  likes  retweet  Sentiments  \n",
      "0 2019-06-17 04:07:47  Twitter Web Client      0        0           0  \n",
      "1 2019-06-08 11:58:33  Twitter Web Client      0        0           0  \n",
      "2 2019-06-08 09:03:46  Twitter Web Client      0        0           0  \n",
      "3 2019-06-08 09:03:46  Twitter Web Client      2        1           0  \n",
      "4 2019-06-05 07:59:01  Twitter Web Client      0        0           0  \n",
      "5 2019-06-05 03:15:38  Twitter Web Client      0        0           1  \n",
      "6 2019-06-04 11:16:50  Twitter Web Client      1        0           0  \n",
      "7 2019-06-03 06:33:53  Twitter Web Client      0      157           0  \n",
      "8 2019-06-03 06:21:15  Twitter Web Client      0        0           0  \n",
      "9 2019-06-02 01:58:25  Twitter Web Client      0        0           0  \n",
      "Creation of content sources:\n",
      "* 0\n",
      "* 1\n",
      "* -1\n"
     ]
    },
    {
     "data": {
      "image/png": "[encoded data removed]",
      "text/plain": [
       "<Figure size 432x432 with 1 Axes>"
      ]
     },
     "metadata": {},
     "output_type": "display_data"
    }
   ],
   "source": [
    "if __name__ == \"__main__\":\n",
    "    twitter_client = TwitterClient()\n",
    "    tweet_analyzer = TweetAnalyzer()\n",
    "    api = twitter_client.get_twitter_client_api()\n",
    "    \n",
    "    tweets = api.user_timeline(screen_name = 'Diccewt',count = 400)\n",
    "    df = tweet_analyzer.tweets_to_dataframe(tweets)\n",
    "    \n",
    "    \n",
    "    df['Sentiments'] = np.array([tweet_analyzer.analyze_sentiment(tweet) for tweet in df['tweets']])\n",
    "    \n",
    "    print(df.head(10))\n",
    "    sentiments = []\n",
    "    for sentiment in df['Sentiments']:\n",
    "        if sentiment not in sentiments:\n",
    "            sentiments.append(sentiment)\n",
    "            \n",
    "    print(\"Creation of content sources:\")\n",
    "    for sentiment in sentiments:\n",
    "        print(\"* {}\".format(sentiment))\n",
    "\n",
    "        \n",
    "    percent = np.zeros(len(sentiments))\n",
    "\n",
    "    for sentiment in df['Sentiments']:\n",
    "        for index in range(len(sentiments)):\n",
    "            if sentiment == sentiments[index]:\n",
    "                percent[index] += 1\n",
    "                pass\n",
    "\n",
    "    percent /= 100\n",
    "\n",
    "# Pie chart:\n",
    "    pie_chart = pd.Series(percent, index=sentiments, name='Sentiments')\n",
    "    pie_chart.plot.pie(fontsize=11, autopct='%.2f', figsize=(6, 6))\n",
    "  "
   ]
  },
  {
   "cell_type": "code",
   "execution_count": null,
   "metadata": {},
   "outputs": [],
   "source": []
  },
  {
   "cell_type": "code",
   "execution_count": null,
   "metadata": {},
   "outputs": [],
   "source": []
  }
 ],
 "metadata": {
  "kernelspec": {
   "display_name": "Python 3",
   "language": "python",
   "name": "python3"
  },
  "language_info": {
   "codemirror_mode": {
    "name": "ipython",
    "version": 3
   },
   "file_extension": ".py",
   "mimetype": "text/x-python",
   "name": "python",
   "nbconvert_exporter": "python",
   "pygments_lexer": "ipython3",
   "version": "3.6.7"
  }
 },
 "nbformat": 4,
 "nbformat_minor": 2
}
