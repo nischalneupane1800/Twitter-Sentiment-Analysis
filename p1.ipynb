{
 "cells": [
  {
   "cell_type": "code",
   "execution_count": null,
   "metadata": {},
   "outputs": [],
   "source": [
    "access_token = \"3905284168-beFyAbGSJcQDI2PUqGIaZ1Drr7AdYNJNmg0UGzR\"\n",
    "access_secret = \"B7FaFaY8QQKmkhJ7myJpRKQNTNFdMJgU011IDB91ibMpS\"\n",
    "consumer_key = \"s9nXjWDHN2p7nclB9PXsJx9rh\"\n",
    "consumer_secret = \"FOD1fJaq62E0zUjq6qVJqMgIrlk5Ekz65GGh63YfnAwuhDiaoN\""
   ]
  },
  {
   "cell_type": "code",
   "execution_count": null,
   "metadata": {},
   "outputs": [],
   "source": [
    "from tweepy.streaming import StreamListener"
   ]
  },
  {
   "cell_type": "code",
   "execution_count": null,
   "metadata": {},
   "outputs": [],
   "source": [
    "from tweepy import OAuthHandler"
   ]
  },
  {
   "cell_type": "code",
   "execution_count": null,
   "metadata": {},
   "outputs": [],
   "source": [
    "from tweepy import Stream"
   ]
  },
  {
   "cell_type": "code",
   "execution_count": null,
   "metadata": {},
   "outputs": [],
   "source": [
    "class StdOutListener(StreamListener):\n",
    "    def on_data(self,data):\n",
    "        print(data)\n",
    "        return True\n",
    "    \n",
    "    def on_error(self,status):\n",
    "        print(status)\n",
    "        \n",
    "        "
   ]
  },
  {
   "cell_type": "code",
   "execution_count": null,
   "metadata": {},
   "outputs": [],
   "source": [
    "if __name__ == \"__main__\":\n",
    "    listener = StdOutListener()\n",
    "    auth = OAuthHandler(consumer_key,consumer_secret)\n",
    "    auth.set_access_token(access_token,access_secret)\n",
    "    stream = Stream(auth,listener)\n",
    "    \n",
    "    stream.filter(track = [\"donald trump\",\"hillary clinton\",\"barack obama\"])"
   ]
  },
  {
   "cell_type": "code",
   "execution_count": null,
   "metadata": {},
   "outputs": [],
   "source": []
  }
 ],
 "metadata": {},
 "nbformat": 4,
 "nbformat_minor": 2
}
